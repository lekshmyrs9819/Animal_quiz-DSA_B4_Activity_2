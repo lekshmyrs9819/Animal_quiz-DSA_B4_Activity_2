{
 "cells": [
  {
   "cell_type": "code",
   "execution_count": 3,
   "id": "d7b6aa26",
   "metadata": {},
   "outputs": [
    {
     "name": "stdout",
     "output_type": "stream",
     "text": [
      "Animal Quiz!\n",
      "Which bear lives at the North Pole? Polar Bear\n",
      "Correct Answer\n",
      "Which is the fastest land animal? Cheetah\n",
      "Correct Answer\n",
      "Which is the larget animal? Giraffe\n",
      "Sorry Wrong Answer, try again: elephant\n",
      "Sorry Wrong Answer, try again: Rhinoceros\n",
      "The Correct answer is:  Blue Whale\n",
      "Good Job! Your score is 2.\n"
     ]
    }
   ],
   "source": [
    "def animal_quiz(guess, answer):\n",
    "    global score\n",
    "    still_guessing = True\n",
    "    attempt = 0\n",
    "    while still_guessing and attempt < 3:\n",
    "        if guess.lower() == answer.lower():\n",
    "            print(\"Correct Answer\")\n",
    "            score = score + 1\n",
    "            still_guessing = False\n",
    "        else:\n",
    "            if attempt < 2:\n",
    "                guess = input(\"Sorry Wrong Answer, try again: \")\n",
    "            attempt = attempt + 1\n",
    "    if attempt == 3:\n",
    "        print(\"The Correct answer is: \",answer )\n",
    "    \n",
    "score = 0\n",
    "print(\"Animal Quiz!\")\n",
    "guess1 = input(\"Which bear lives at the North Pole? \")\n",
    "animal_quiz(guess1, \"polar bear\")\n",
    "guess2 = input(\"Which is the fastest land animal? \")\n",
    "animal_quiz(guess2, \"Cheetah\")\n",
    "guess3 = input(\"Which is the larget animal? \")\n",
    "animal_quiz(guess3, \"Blue Whale\")\n",
    "if score == 3:\n",
    "    print('Congratulations! You answered all of the questions correctly! Your score is ' + str(score)+'.')\n",
    "elif score >= 1:\n",
    "    print('Good Job! Your score is ' + str(score)+'.')\n",
    "else:\n",
    "    print('Try again next time. Your score is ' + str(score)+'.')"
   ]
  },
  {
   "cell_type": "code",
   "execution_count": null,
   "id": "67febc27",
   "metadata": {},
   "outputs": [],
   "source": []
  }
 ],
 "metadata": {
  "kernelspec": {
   "display_name": "Python 3 (ipykernel)",
   "language": "python",
   "name": "python3"
  },
  "language_info": {
   "codemirror_mode": {
    "name": "ipython",
    "version": 3
   },
   "file_extension": ".py",
   "mimetype": "text/x-python",
   "name": "python",
   "nbconvert_exporter": "python",
   "pygments_lexer": "ipython3",
   "version": "3.8.12"
  }
 },
 "nbformat": 4,
 "nbformat_minor": 5
}
